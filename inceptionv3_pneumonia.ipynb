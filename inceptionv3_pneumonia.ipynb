{
  "nbformat": 4,
  "nbformat_minor": 0,
  "metadata": {
    "colab": {
      "provenance": [],
      "gpuType": "T4"
    },
    "kernelspec": {
      "name": "python3",
      "display_name": "Python 3"
    },
    "language_info": {
      "name": "python"
    },
    "accelerator": "GPU"
  },
  "cells": [
    {
      "cell_type": "code",
      "execution_count": 8,
      "metadata": {
        "id": "11-hNLii3YGv"
      },
      "outputs": [],
      "source": [
        "#load libraries\n",
        "import torch\n",
        "from PIL import Image\n",
        "import torch.nn as nn\n",
        "import torch.optim as optim\n",
        "from torchvision import models, transforms\n",
        "from torch.utils.data import DataLoader, WeightedRandomSampler, Subset, Dataset\n",
        "from torchvision.datasets import ImageFolder\n",
        "import os\n",
        "import numpy as np\n",
        "from sklearn.metrics import accuracy_score, f1_score, roc_auc_score, confusion_matrix\n",
        "import matplotlib.pyplot as plt\n",
        "from sklearn.model_selection import KFold\n",
        "import copy\n",
        "import seaborn as sns"
      ]
    },
    {
      "cell_type": "code",
      "source": [
        "device = torch.device(\"cuda\" if torch.cuda.is_available() else \"cpu\")"
      ],
      "metadata": {
        "id": "0Nd942WlIdk8"
      },
      "execution_count": 9,
      "outputs": []
    },
    {
      "cell_type": "code",
      "source": [
        "#load dataset\n",
        "data = np.load('/content/pneumoniamnist.npz')\n",
        "print(data.files)"
      ],
      "metadata": {
        "colab": {
          "base_uri": "https://localhost:8080/"
        },
        "id": "BnMLFzTL4AAg",
        "outputId": "cd6f6de0-129d-4a07-9e36-32dd94169289"
      },
      "execution_count": 10,
      "outputs": [
        {
          "output_type": "stream",
          "name": "stdout",
          "text": [
            "['train_images', 'train_labels', 'val_images', 'val_labels', 'test_images', 'test_labels']\n"
          ]
        }
      ]
    },
    {
      "cell_type": "code",
      "source": [
        "#train_test_split\n",
        "X_train = data['train_images']\n",
        "y_train = data['train_labels']\n",
        "X_val = data['val_images']\n",
        "y_val = data['val_labels']\n",
        "X_test = data['test_images']\n",
        "y_test = data['test_labels']"
      ],
      "metadata": {
        "id": "-kn-0jMU748w"
      },
      "execution_count": 11,
      "outputs": []
    },
    {
      "cell_type": "code",
      "source": [
        "# Visualize Class Distribution\n",
        "train_labels_flat = np.concatenate([y_train, y_val]).flatten()\n",
        "unique, counts = np.unique(train_labels_flat, return_counts=True)\n",
        "\n",
        "plt.figure(figsize=(6, 4))\n",
        "sns.barplot(x=unique, y=counts)\n",
        "plt.xlabel('Class Label')\n",
        "plt.ylabel('Sample Count')\n",
        "plt.title('Class Distribution in Training + Validation Set')\n",
        "plt.xticks(ticks=[0,1], labels=['Normal','Pneumonia'])\n",
        "plt.tight_layout()\n",
        "plt.show()"
      ],
      "metadata": {
        "colab": {
          "base_uri": "https://localhost:8080/",
          "height": 407
        },
        "id": "4AvFLphbzcJ2",
        "outputId": "244cb8e5-c21f-4669-da28-a50577fd49ed"
      },
      "execution_count": 12,
      "outputs": [
        {
          "output_type": "display_data",
          "data": {
            "text/plain": [
              "<Figure size 600x400 with 1 Axes>"
            ],
            "image/png": "[encoded data removed]"
          },
          "metadata": {}
        }
      ]
    },
    {
      "cell_type": "code",
      "source": [
        "class PneumoniaDataset(Dataset):\n",
        "    def __init__(self, images, labels, transform=None):\n",
        "        self.images = images  # shape: (N, 28, 28)\n",
        "        self.labels = labels  # shape: (N, 1)\n",
        "        self.transform = transform\n",
        "\n",
        "    def __len__(self):\n",
        "        return len(self.images)\n",
        "\n",
        "    def __getitem__(self, idx):\n",
        "        img = self.images[idx]\n",
        "        label = int(self.labels[idx][0])\n",
        "        img = np.uint8(img)  # Convert to uint8 for PIL\n",
        "        img = Image.fromarray(img, mode='L')  # Convert to PIL grayscale\n",
        "\n",
        "        if self.transform:\n",
        "            img = self.transform(img)\n",
        "\n",
        "        return img, label"
      ],
      "metadata": {
        "id": "xVOSz5K57PjG"
      },
      "execution_count": 13,
      "outputs": []
    },
    {
      "cell_type": "code",
      "source": [
        "# Preprocess: Resize to 299x299 and convert grayscale to 3 channels\n",
        "transform_train = transforms.Compose([\n",
        "    transforms.Resize((299, 299)),\n",
        "    transforms.Grayscale(num_output_channels=3),\n",
        "    transforms.RandomHorizontalFlip(),\n",
        "    transforms.RandomRotation(10),\n",
        "    transforms.ToTensor()\n",
        "])\n",
        "\n",
        "transform_test = transforms.Compose([\n",
        "    transforms.Resize((299, 299)),\n",
        "    transforms.Grayscale(num_output_channels=3),\n",
        "    transforms.ToTensor()\n",
        "])"
      ],
      "metadata": {
        "id": "OapDIM1H6b7R"
      },
      "execution_count": 14,
      "outputs": []
    },
    {
      "cell_type": "code",
      "source": [
        "# Evaluation Function\n",
        "def evaluate(model, dataloader):\n",
        "    model.eval()\n",
        "    all_preds, all_labels = [], []\n",
        "    with torch.no_grad():\n",
        "        for x, y in dataloader:\n",
        "            x, y = x.to(device), y.to(device)\n",
        "            outputs = model(x)\n",
        "            if isinstance(outputs, tuple):\n",
        "                outputs = outputs[0]\n",
        "            preds = torch.argmax(outputs, dim=1)\n",
        "            all_preds.extend(preds.cpu().numpy())\n",
        "            all_labels.extend(y.cpu().numpy())\n",
        "    acc = accuracy_score(all_labels, all_preds)\n",
        "    f1 = f1_score(all_labels, all_preds)\n",
        "    auc = roc_auc_score(all_labels, all_preds)\n",
        "    return acc, f1, auc"
      ],
      "metadata": {
        "id": "362MHsRp-S3P"
      },
      "execution_count": 15,
      "outputs": []
    },
    {
      "cell_type": "code",
      "source": [
        "# Prepare Datasets\n",
        "X_all = np.concatenate([X_train, X_val], axis=0)\n",
        "y_all = np.concatenate([y_train, y_val], axis=0)\n",
        "full_dataset = PneumoniaDataset(X_all, y_all, transform=transform_train)\n",
        "test_dataset = PneumoniaDataset(X_test, y_test, transform=transform_test)\n",
        "test_loader = DataLoader(test_dataset, batch_size=32, shuffle=False)"
      ],
      "metadata": {
        "id": "gby8evvt0T6M"
      },
      "execution_count": 16,
      "outputs": []
    },
    {
      "cell_type": "code",
      "source": [
        "# K-Fold Cross Validation\n",
        "kfold = KFold(n_splits=5, shuffle=True, random_state=42)\n",
        "all_test_metrics = []"
      ],
      "metadata": {
        "id": "xhNhgGkmjk3e"
      },
      "execution_count": 17,
      "outputs": []
    },
    {
      "cell_type": "code",
      "source": [
        "for fold, (train_idx, val_idx) in enumerate(kfold.split(X_all)):\n",
        "    print(f\"\\n--- Fold {fold+1}/5 ---\")\n",
        "\n",
        "    # Split into train and val subsets\n",
        "    train_subset = Subset(full_dataset, train_idx)\n",
        "    val_subset = Subset(PneumoniaDataset(X_all, y_all, transform=transform_test), val_idx)\n",
        "\n",
        "    # Class balancing for training fold\n",
        "    labels_fold = y_all[train_idx].flatten()\n",
        "    class_sample_count = np.array([len(np.where(labels_fold == t)[0]) for t in np.unique(labels_fold)])\n",
        "    weights = 1. / class_sample_count\n",
        "    samples_weight = np.array([weights[int(t)] for t in labels_fold])\n",
        "    sampler = WeightedRandomSampler(samples_weight, len(samples_weight))\n",
        "\n",
        "    train_loader = DataLoader(train_subset, batch_size=32, sampler=sampler)\n",
        "    val_loader = DataLoader(val_subset, batch_size=32, shuffle=False)\n",
        "\n",
        "    # Model\n",
        "    model = models.inception_v3(pretrained=True, aux_logits=True)\n",
        "    model.fc = nn.Linear(model.fc.in_features, 2)\n",
        "    model.to(device)\n",
        "\n",
        "    criterion = nn.CrossEntropyLoss()\n",
        "    optimizer = optim.Adam(model.parameters(), lr=1e-4)\n",
        "\n",
        "    # Early Stopping Based on AUROC\n",
        "    best_val_auc = 0\n",
        "    trigger_times = 0\n",
        "    patience = 5\n",
        "\n",
        "    for epoch in range(20):\n",
        "        model.train()\n",
        "        total_loss = 0\n",
        "        for x, y in train_loader:\n",
        "            x, y = x.to(device), y.to(device)\n",
        "            optimizer.zero_grad()\n",
        "            outputs = model(x)\n",
        "            if isinstance(outputs, tuple):\n",
        "                outputs = outputs[0]\n",
        "            loss = criterion(outputs, y)\n",
        "            loss.backward()\n",
        "            optimizer.step()\n",
        "            total_loss += loss.item()\n",
        "\n",
        "        val_acc, val_f1, val_auc = evaluate(model, val_loader)\n",
        "        print(f\"Epoch {epoch+1}: Loss={total_loss:.4f}, Val Acc={val_acc:.4f}, F1={val_f1:.4f}, AUROC={val_auc:.4f}\")\n",
        "\n",
        "        if val_auc > best_val_auc:\n",
        "            best_val_auc = val_auc\n",
        "            best_model_wts = copy.deepcopy(model.state_dict())\n",
        "            trigger_times = 0\n",
        "        else:\n",
        "            trigger_times += 1\n",
        "            if trigger_times >= patience:\n",
        "                print(f\"Early stopping at epoch {epoch+1}\")\n",
        "                break\n",
        "\n",
        "model.load_state_dict(best_model_wts)\n",
        "test_acc, test_f1, test_auc = evaluate(model, test_loader)\n",
        "print(f\"Fold {fold+1} Test: Accuracy={test_acc:.4f}, F1={test_f1:.4f}, AUROC={test_auc:.4f}\")\n",
        "all_test_metrics.append((test_acc, test_f1, test_auc))"
      ],
      "metadata": {
        "colab": {
          "base_uri": "https://localhost:8080/"
        },
        "id": "4VQZPcHXyIxI",
        "outputId": "f599837d-785d-4483-8d3a-e2961a95cb57"
      },
      "execution_count": null,
      "outputs": [
        {
          "output_type": "stream",
          "name": "stdout",
          "text": [
            "\n",
            "--- Fold 1/5 ---\n"
          ]
        },
        {
          "output_type": "stream",
          "name": "stderr",
          "text": [
            "/usr/local/lib/python3.11/dist-packages/torchvision/models/_utils.py:208: UserWarning: The parameter 'pretrained' is deprecated since 0.13 and may be removed in the future, please use 'weights' instead.\n",
            "  warnings.warn(\n",
            "/usr/local/lib/python3.11/dist-packages/torchvision/models/_utils.py:223: UserWarning: Arguments other than a weight enum or `None` for 'weights' are deprecated since 0.13 and may be removed in the future. The current behavior is equivalent to passing `weights=Inception_V3_Weights.IMAGENET1K_V1`. You can also use `weights=Inception_V3_Weights.DEFAULT` to get the most up-to-date weights.\n",
            "  warnings.warn(msg)\n"
          ]
        },
        {
          "output_type": "stream",
          "name": "stdout",
          "text": [
            "Epoch 1: Loss=20.3094, Val Acc=0.8435, F1=0.9036, AUROC=0.9121\n"
          ]
        }
      ]
    },
    {
      "cell_type": "code",
      "source": [
        "# Average Test Performance\n",
        "avg_acc = np.mean([m[0] for m in all_test_metrics])\n",
        "avg_f1 = np.mean([m[1] for m in all_test_metrics])\n",
        "avg_auc = np.mean([m[2] for m in all_test_metrics])\n",
        "\n",
        "print(f\"\\n Average Test Performance across 5 folds:\")\n",
        "print(f\"Accuracy: {avg_acc:.4f}, F1-Score: {avg_f1:.4f}, AUROC: {avg_auc:.4f}\")\n",
        "\n",
        "# Evaluate on test set\n",
        "all_preds, all_labels = [], []\n",
        "model.eval()\n",
        "with torch.no_grad():\n",
        "    for x, y in test_loader:\n",
        "        x, y = x.to(device), y.to(device)\n",
        "        outputs = model(x)\n",
        "        if isinstance(outputs, tuple):\n",
        "            outputs = outputs[0]\n",
        "        preds = torch.argmax(outputs, dim=1)\n",
        "        all_preds.extend(preds.cpu().numpy())\n",
        "        all_labels.extend(y.cpu().numpy())\n",
        "\n",
        "test_acc = accuracy_score(all_labels, all_preds)\n",
        "test_f1 = f1_score(all_labels, all_preds)\n",
        "test_auc = roc_auc_score(all_labels, all_preds)\n",
        "print(f\" Fold {fold+1} Test: Accuracy={test_acc:.4f}, F1={test_f1:.4f}, AUROC={test_auc:.4f}\")\n",
        "all_test_metrics.append((test_acc, test_f1, test_auc))\n",
        "\n",
        "# Confusion Matrix\n",
        "cm = confusion_matrix(all_labels, all_preds)\n",
        "plt.figure(figsize=(5, 4))\n",
        "sns.heatmap(cm, annot=True, fmt='d', cmap='Blues', xticklabels=['Normal', 'Pneumonia'], yticklabels=['Normal', 'Pneumonia'])\n",
        "plt.xlabel('Predicted Label')\n",
        "plt.ylabel('True Label')\n",
        "plt.title(f'Confusion Matrix - Fold {fold+1}')\n",
        "plt.tight_layout()\n",
        "plt.show()"
      ],
      "metadata": {
        "id": "WHC89DQuyO6p"
      },
      "execution_count": null,
      "outputs": []
    }
  ]
}