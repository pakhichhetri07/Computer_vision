{
  "cells": [
    {
      "cell_type": "code",
      "execution_count": 1,
      "metadata": {
        "id": "11-hNLii3YGv"
      },
      "outputs": [],
      "source": [
        "#load libraries\n",
        "import torch\n",
        "from PIL import Image\n",
        "import torch.nn as nn\n",
        "import torch.optim as optim\n",
        "from torchvision import models, transforms\n",
        "from torch.utils.data import DataLoader, WeightedRandomSampler, Subset, Dataset\n",
        "from torchvision.datasets import ImageFolder\n",
        "import os\n",
        "import numpy as np\n",
        "from sklearn.metrics import accuracy_score, f1_score, roc_auc_score, confusion_matrix\n",
        "import matplotlib.pyplot as plt\n",
        "from sklearn.model_selection import KFold\n",
        "import copy\n",
        "import seaborn as sns"
      ]
    },
    {
      "cell_type": "code",
      "execution_count": 3,
      "metadata": {
        "id": "0Nd942WlIdk8"
      },
      "outputs": [],
      "source": [
        "device = torch.device(\"cuda\" if torch.cuda.is_available() else \"cpu\")"
      ]
    },
    {
      "cell_type": "code",
      "execution_count": 4,
      "metadata": {
        "colab": {
          "base_uri": "https://localhost:8080/"
        },
        "id": "BnMLFzTL4AAg",
        "outputId": "ec2547ec-8ab0-4177-cead-03f9279def18"
      },
      "outputs": [
        {
          "output_type": "stream",
          "name": "stdout",
          "text": [
            "['train_images', 'train_labels', 'val_images', 'val_labels', 'test_images', 'test_labels']\n"
          ]
        }
      ],
      "source": [
        "#load dataset\n",
        "data = np.load('/content/pneumoniamnist.npz')\n",
        "print(data.files)"
      ]
    },
    {
      "cell_type": "code",
      "execution_count": 5,
      "metadata": {
        "id": "-kn-0jMU748w"
      },
      "outputs": [],
      "source": [
        "#train_test_split\n",
        "X_train = data['train_images']\n",
        "y_train = data['train_labels']\n",
        "X_val = data['val_images']\n",
        "y_val = data['val_labels']\n",
        "X_test = data['test_images']\n",
        "y_test = data['test_labels']"
      ]
    },
    {
      "cell_type": "code",
      "execution_count": 6,
      "metadata": {
        "colab": {
          "base_uri": "https://localhost:8080/",
          "height": 407
        },
        "id": "4AvFLphbzcJ2",
        "outputId": "5f0d690e-b7c2-413a-deb3-fbd5d0b3cec6"
      },
      "outputs": [
        {
          "output_type": "display_data",
          "data": {
            "text/plain": [
              "<Figure size 600x400 with 1 Axes>"
            ],
            "image/png": "[encoded data removed]"
          },
          "metadata": {}
        }
      ],
      "source": [
        "# Visualize Class Distribution\n",
        "train_labels_flat = np.concatenate([y_train, y_val]).flatten()\n",
        "unique, counts = np.unique(train_labels_flat, return_counts=True)\n",
        "\n",
        "plt.figure(figsize=(6, 4))\n",
        "sns.barplot(x=unique, y=counts)\n",
        "plt.xlabel('Class Label')\n",
        "plt.ylabel('Sample Count')\n",
        "plt.title('Class Distribution in Training + Validation Set')\n",
        "plt.xticks(ticks=[0,1], labels=['Normal','Pneumonia'])\n",
        "plt.tight_layout()\n",
        "plt.show()"
      ]
    },
    {
      "cell_type": "code",
      "execution_count": 7,
      "metadata": {
        "id": "xVOSz5K57PjG"
      },
      "outputs": [],
      "source": [
        "class PneumoniaDataset(Dataset):\n",
        "    def __init__(self, images, labels, transform=None):\n",
        "        self.images = images  # shape: (N, 28, 28)\n",
        "        self.labels = labels  # shape: (N, 1)\n",
        "        self.transform = transform\n",
        "\n",
        "    def __len__(self):\n",
        "        return len(self.images)\n",
        "\n",
        "    def __getitem__(self, idx):\n",
        "        img = self.images[idx]\n",
        "        label = int(self.labels[idx][0])\n",
        "        img = np.uint8(img)  # Convert to uint8 for PIL\n",
        "        img = Image.fromarray(img, mode='L')  # Convert to PIL grayscale\n",
        "\n",
        "        if self.transform:\n",
        "            img = self.transform(img)\n",
        "\n",
        "        return img, label"
      ]
    },
    {
      "cell_type": "code",
      "execution_count": 8,
      "metadata": {
        "id": "OapDIM1H6b7R"
      },
      "outputs": [],
      "source": [
        "# Data augmentation: Preprocess: Resize to 299x299 and convert grayscale to 3 channels\n",
        "transform_train = transforms.Compose([\n",
        "    transforms.Resize((299, 299)),\n",
        "    transforms.Grayscale(num_output_channels=3),\n",
        "    transforms.RandomHorizontalFlip(),\n",
        "    transforms.RandomRotation(10),\n",
        "    transforms.ToTensor()\n",
        "])\n",
        "\n",
        "transform_test = transforms.Compose([\n",
        "    transforms.Resize((299, 299)),\n",
        "    transforms.Grayscale(num_output_channels=3),\n",
        "    transforms.ToTensor()\n",
        "])"
      ]
    },
    {
      "cell_type": "code",
      "execution_count": 9,
      "metadata": {
        "id": "362MHsRp-S3P"
      },
      "outputs": [],
      "source": [
        "# Evaluation Function\n",
        "def evaluate(model, dataloader):\n",
        "    model.eval()\n",
        "    all_preds, all_labels = [], []\n",
        "    with torch.no_grad():\n",
        "        for x, y in dataloader:\n",
        "            x, y = x.to(device), y.to(device)\n",
        "            outputs = model(x)\n",
        "            if isinstance(outputs, tuple):\n",
        "                outputs = outputs[0]\n",
        "            preds = torch.argmax(outputs, dim=1)\n",
        "            all_preds.extend(preds.cpu().numpy())\n",
        "            all_labels.extend(y.cpu().numpy())\n",
        "    acc = accuracy_score(all_labels, all_preds)\n",
        "    f1 = f1_score(all_labels, all_preds)\n",
        "    auc = roc_auc_score(all_labels, all_preds)\n",
        "    return acc, f1, auc"
      ]
    },
    {
      "cell_type": "code",
      "execution_count": 10,
      "metadata": {
        "id": "gby8evvt0T6M"
      },
      "outputs": [],
      "source": [
        "# Prepare Datasets\n",
        "X_all = np.concatenate([X_train, X_val], axis=0)\n",
        "y_all = np.concatenate([y_train, y_val], axis=0)\n",
        "full_dataset = PneumoniaDataset(X_all, y_all, transform=transform_train)\n",
        "test_dataset = PneumoniaDataset(X_test, y_test, transform=transform_test)\n",
        "test_loader = DataLoader(test_dataset, batch_size=32, shuffle=False)"
      ]
    },
    {
      "cell_type": "code",
      "execution_count": null,
      "metadata": {
        "id": "xhNhgGkmjk3e"
      },
      "outputs": [],
      "source": [
        "# K-Fold Cross Validation\n",
        "kfold = KFold(n_splits=5, shuffle=True, random_state=42)\n",
        "all_test_metrics = []"
      ]
    },
    {
      "cell_type": "code",
      "execution_count": 11,
      "metadata": {
        "colab": {
          "base_uri": "https://localhost:8080/"
        },
        "id": "4VQZPcHXyIxI",
        "outputId": "ce7f7bef-8061-4aea-afad-f0af12edf38e"
      },
      "outputs": [
        {
          "output_type": "stream",
          "name": "stdout",
          "text": [
            "\n",
            "--- Fold 1/5 ---\n"
          ]
        },
        {
          "output_type": "stream",
          "name": "stderr",
          "text": [
            "/usr/local/lib/python3.11/dist-packages/torchvision/models/_utils.py:208: UserWarning: The parameter 'pretrained' is deprecated since 0.13 and may be removed in the future, please use 'weights' instead.\n",
            "  warnings.warn(\n",
            "/usr/local/lib/python3.11/dist-packages/torchvision/models/_utils.py:223: UserWarning: Arguments other than a weight enum or `None` for 'weights' are deprecated since 0.13 and may be removed in the future. The current behavior is equivalent to passing `weights=Inception_V3_Weights.IMAGENET1K_V1`. You can also use `weights=Inception_V3_Weights.DEFAULT` to get the most up-to-date weights.\n",
            "  warnings.warn(msg)\n",
            "Downloading: \"https://download.pytorch.org/models/inception_v3_google-0cc3c7bd.pth\" to /root/.cache/torch/hub/checkpoints/inception_v3_google-0cc3c7bd.pth\n",
            "100%|██████████| 104M/104M [00:01<00:00, 86.8MB/s]\n"
          ]
        },
        {
          "output_type": "stream",
          "name": "stdout",
          "text": [
            "Epoch 1: Loss=28.1746, Val Acc=0.9512, F1=0.9728, AUROC=0.8461\n",
            "Epoch 2: Loss=15.5974, Val Acc=0.9331, F1=0.9615, AUROC=0.9172\n",
            "Epoch 3: Loss=13.0667, Val Acc=0.9320, F1=0.9606, AUROC=0.9302\n",
            "Epoch 4: Loss=9.9900, Val Acc=0.9501, F1=0.9716, AUROC=0.9223\n",
            "Epoch 5: Loss=8.7250, Val Acc=0.9615, F1=0.9783, AUROC=0.9151\n",
            "Epoch 6: Loss=8.1640, Val Acc=0.9615, F1=0.9783, AUROC=0.9151\n",
            "Epoch 7: Loss=6.9967, Val Acc=0.9683, F1=0.9823, AUROC=0.9008\n",
            "Epoch 8: Loss=6.7899, Val Acc=0.9660, F1=0.9809, AUROC=0.9131\n",
            "Early stopping at epoch 8\n",
            "\n",
            "--- Fold 2/5 ---\n"
          ]
        },
        {
          "output_type": "stream",
          "name": "stderr",
          "text": [
            "/usr/local/lib/python3.11/dist-packages/torchvision/models/_utils.py:208: UserWarning: The parameter 'pretrained' is deprecated since 0.13 and may be removed in the future, please use 'weights' instead.\n",
            "  warnings.warn(\n",
            "/usr/local/lib/python3.11/dist-packages/torchvision/models/_utils.py:223: UserWarning: Arguments other than a weight enum or `None` for 'weights' are deprecated since 0.13 and may be removed in the future. The current behavior is equivalent to passing `weights=Inception_V3_Weights.IMAGENET1K_V1`. You can also use `weights=Inception_V3_Weights.DEFAULT` to get the most up-to-date weights.\n",
            "  warnings.warn(msg)\n"
          ]
        },
        {
          "output_type": "stream",
          "name": "stdout",
          "text": [
            "Epoch 1: Loss=28.2772, Val Acc=0.9364, F1=0.9629, AUROC=0.9174\n",
            "Epoch 2: Loss=14.7665, Val Acc=0.9512, F1=0.9716, AUROC=0.9412\n",
            "Epoch 3: Loss=13.8073, Val Acc=0.9569, F1=0.9750, AUROC=0.9445\n",
            "Epoch 4: Loss=9.8069, Val Acc=0.9546, F1=0.9735, AUROC=0.9509\n",
            "Epoch 5: Loss=8.3053, Val Acc=0.9421, F1=0.9660, AUROC=0.9438\n",
            "Epoch 6: Loss=8.0204, Val Acc=0.9671, F1=0.9811, AUROC=0.9311\n",
            "Epoch 7: Loss=6.5868, Val Acc=0.9614, F1=0.9777, AUROC=0.9355\n",
            "Epoch 8: Loss=6.0318, Val Acc=0.9580, F1=0.9756, AUROC=0.9451\n",
            "Epoch 9: Loss=4.9435, Val Acc=0.9637, F1=0.9793, AUROC=0.9098\n",
            "Early stopping at epoch 9\n",
            "\n",
            "--- Fold 3/5 ---\n"
          ]
        },
        {
          "output_type": "stream",
          "name": "stderr",
          "text": [
            "/usr/local/lib/python3.11/dist-packages/torchvision/models/_utils.py:208: UserWarning: The parameter 'pretrained' is deprecated since 0.13 and may be removed in the future, please use 'weights' instead.\n",
            "  warnings.warn(\n",
            "/usr/local/lib/python3.11/dist-packages/torchvision/models/_utils.py:223: UserWarning: Arguments other than a weight enum or `None` for 'weights' are deprecated since 0.13 and may be removed in the future. The current behavior is equivalent to passing `weights=Inception_V3_Weights.IMAGENET1K_V1`. You can also use `weights=Inception_V3_Weights.DEFAULT` to get the most up-to-date weights.\n",
            "  warnings.warn(msg)\n"
          ]
        },
        {
          "output_type": "stream",
          "name": "stdout",
          "text": [
            "Epoch 1: Loss=29.6952, Val Acc=0.9501, F1=0.9714, AUROC=0.8998\n",
            "Epoch 2: Loss=16.4713, Val Acc=0.9330, F1=0.9608, AUROC=0.9260\n",
            "Epoch 3: Loss=12.3867, Val Acc=0.9603, F1=0.9773, AUROC=0.9136\n",
            "Epoch 4: Loss=9.2638, Val Acc=0.9614, F1=0.9779, AUROC=0.9302\n",
            "Epoch 5: Loss=9.4287, Val Acc=0.9546, F1=0.9739, AUROC=0.9184\n",
            "Epoch 6: Loss=8.6374, Val Acc=0.9501, F1=0.9710, AUROC=0.9397\n",
            "Epoch 7: Loss=7.8629, Val Acc=0.9569, F1=0.9750, AUROC=0.9515\n",
            "Epoch 8: Loss=6.3094, Val Acc=0.9625, F1=0.9786, AUROC=0.9149\n",
            "Epoch 9: Loss=5.7211, Val Acc=0.9546, F1=0.9738, AUROC=0.9343\n",
            "Epoch 10: Loss=5.1310, Val Acc=0.9637, F1=0.9792, AUROC=0.9275\n",
            "\n",
            "--- Fold 4/5 ---\n"
          ]
        },
        {
          "output_type": "stream",
          "name": "stderr",
          "text": [
            "/usr/local/lib/python3.11/dist-packages/torchvision/models/_utils.py:208: UserWarning: The parameter 'pretrained' is deprecated since 0.13 and may be removed in the future, please use 'weights' instead.\n",
            "  warnings.warn(\n",
            "/usr/local/lib/python3.11/dist-packages/torchvision/models/_utils.py:223: UserWarning: Arguments other than a weight enum or `None` for 'weights' are deprecated since 0.13 and may be removed in the future. The current behavior is equivalent to passing `weights=Inception_V3_Weights.IMAGENET1K_V1`. You can also use `weights=Inception_V3_Weights.DEFAULT` to get the most up-to-date weights.\n",
            "  warnings.warn(msg)\n"
          ]
        },
        {
          "output_type": "stream",
          "name": "stdout",
          "text": [
            "Epoch 1: Loss=28.3037, Val Acc=0.9171, F1=0.9508, AUROC=0.9407\n",
            "Epoch 2: Loss=16.3352, Val Acc=0.9535, F1=0.9729, AUROC=0.9613\n",
            "Epoch 3: Loss=13.6109, Val Acc=0.9739, F1=0.9852, AUROC=0.9322\n",
            "Epoch 4: Loss=10.9056, Val Acc=0.9716, F1=0.9838, AUROC=0.9472\n",
            "Epoch 5: Loss=9.4066, Val Acc=0.9353, F1=0.9619, AUROC=0.9592\n",
            "Epoch 6: Loss=8.6758, Val Acc=0.9501, F1=0.9709, AUROC=0.9594\n",
            "Epoch 7: Loss=7.0551, Val Acc=0.9614, F1=0.9776, AUROC=0.9699\n",
            "Epoch 8: Loss=5.7337, Val Acc=0.9682, F1=0.9818, AUROC=0.9494\n",
            "Epoch 9: Loss=5.6829, Val Acc=0.9364, F1=0.9626, AUROC=0.9598\n",
            "Epoch 10: Loss=6.6869, Val Acc=0.9455, F1=0.9683, AUROC=0.9487\n",
            "\n",
            "--- Fold 5/5 ---\n"
          ]
        },
        {
          "output_type": "stream",
          "name": "stderr",
          "text": [
            "/usr/local/lib/python3.11/dist-packages/torchvision/models/_utils.py:208: UserWarning: The parameter 'pretrained' is deprecated since 0.13 and may be removed in the future, please use 'weights' instead.\n",
            "  warnings.warn(\n",
            "/usr/local/lib/python3.11/dist-packages/torchvision/models/_utils.py:223: UserWarning: Arguments other than a weight enum or `None` for 'weights' are deprecated since 0.13 and may be removed in the future. The current behavior is equivalent to passing `weights=Inception_V3_Weights.IMAGENET1K_V1`. You can also use `weights=Inception_V3_Weights.DEFAULT` to get the most up-to-date weights.\n",
            "  warnings.warn(msg)\n"
          ]
        },
        {
          "output_type": "stream",
          "name": "stdout",
          "text": [
            "Epoch 1: Loss=30.8029, Val Acc=0.9603, F1=0.9779, AUROC=0.8569\n",
            "Epoch 2: Loss=17.0106, Val Acc=0.8899, F1=0.9337, AUROC=0.9378\n",
            "Epoch 3: Loss=11.6193, Val Acc=0.9614, F1=0.9779, AUROC=0.9523\n",
            "Epoch 4: Loss=11.1722, Val Acc=0.9523, F1=0.9726, AUROC=0.9386\n",
            "Epoch 5: Loss=9.7928, Val Acc=0.9546, F1=0.9738, AUROC=0.9614\n",
            "Epoch 6: Loss=6.8157, Val Acc=0.9489, F1=0.9705, AUROC=0.9496\n",
            "Epoch 7: Loss=6.0885, Val Acc=0.9501, F1=0.9710, AUROC=0.9675\n",
            "Epoch 8: Loss=5.4538, Val Acc=0.9671, F1=0.9813, AUROC=0.9383\n",
            "Epoch 9: Loss=4.6837, Val Acc=0.9762, F1=0.9865, AUROC=0.9564\n",
            "Epoch 10: Loss=5.0702, Val Acc=0.9762, F1=0.9865, AUROC=0.9521\n",
            "Fold 5 Test: Accuracy=0.8878, F1=0.9157, AUROC=0.8590\n"
          ]
        }
      ],
      "source": [
        "kfold = KFold(n_splits=5, shuffle=True, random_state=42)\n",
        "all_test_metrics = []\n",
        "for fold, (train_idx, val_idx) in enumerate(kfold.split(X_all)):\n",
        "    print(f\"\\n--- Fold {fold+1}/5 ---\")\n",
        "\n",
        "    # Split into train and val subsets\n",
        "    train_subset = Subset(full_dataset, train_idx)\n",
        "    val_subset = Subset(PneumoniaDataset(X_all, y_all, transform=transform_test), val_idx)\n",
        "\n",
        "    # Class balancing for training fold\n",
        "    labels_fold = y_all[train_idx].flatten()\n",
        "    class_sample_count = np.array([len(np.where(labels_fold == t)[0]) for t in np.unique(labels_fold)])\n",
        "    weights = 1. / class_sample_count\n",
        "    samples_weight = np.array([weights[int(t)] for t in labels_fold])\n",
        "    sampler = WeightedRandomSampler(samples_weight, len(samples_weight))\n",
        "\n",
        "    train_loader = DataLoader(train_subset, batch_size=32, sampler=sampler)\n",
        "    val_loader = DataLoader(val_subset, batch_size=32, shuffle=False)\n",
        "\n",
        "    # Model\n",
        "    model = models.inception_v3(pretrained=True, aux_logits=True)\n",
        "    # Freeze all parameters first\n",
        "    for param in model.parameters():\n",
        "      param.requires_grad = False\n",
        "\n",
        "    # Unfreeze higher-level layers: Mixed_7a, Mixed_7b, Mixed_7c, and fc\n",
        "    for name, param in model.named_parameters():\n",
        "      if any(layer in name for layer in ['Mixed_7a', 'Mixed_7b', 'Mixed_7c', 'fc']):\n",
        "        param.requires_grad = True\n",
        "\n",
        "    # Replace final classifier for 2 classes\n",
        "    model.fc = nn.Linear(model.fc.in_features, 2)\n",
        "\n",
        "    model = model.to(device)\n",
        "\n",
        "    criterion = nn.CrossEntropyLoss()\n",
        "    optimizer = optim.Adam(model.parameters(), lr=1e-4)\n",
        "\n",
        "    # Early Stopping Based on AUROC\n",
        "    best_val_auc = 0\n",
        "    trigger_times = 0\n",
        "    patience = 5\n",
        "\n",
        "    for epoch in range(10):\n",
        "        model.train()\n",
        "        total_loss = 0\n",
        "        for x, y in train_loader:\n",
        "            x, y = x.to(device), y.to(device)\n",
        "            optimizer.zero_grad()\n",
        "            outputs = model(x)\n",
        "            if isinstance(outputs, tuple):\n",
        "                outputs = outputs[0]\n",
        "            loss = criterion(outputs, y)\n",
        "            loss.backward()\n",
        "            optimizer.step()\n",
        "            total_loss += loss.item()\n",
        "\n",
        "        val_acc, val_f1, val_auc = evaluate(model, val_loader)\n",
        "        print(f\"Epoch {epoch+1}: Loss={total_loss:.4f}, Val Acc={val_acc:.4f}, F1={val_f1:.4f}, AUROC={val_auc:.4f}\")\n",
        "\n",
        "        if val_auc > best_val_auc:\n",
        "            best_val_auc = val_auc\n",
        "            best_model_wts = copy.deepcopy(model.state_dict())\n",
        "            trigger_times = 0\n",
        "        else:\n",
        "            trigger_times += 1\n",
        "            if trigger_times >= patience:\n",
        "                print(f\"Early stopping at epoch {epoch+1}\")\n",
        "                break\n",
        "\n",
        "model.load_state_dict(best_model_wts)\n",
        "test_acc, test_f1, test_auc = evaluate(model, test_loader)\n",
        "print(f\"Fold {fold+1} Test: Accuracy={test_acc:.4f}, F1={test_f1:.4f}, AUROC={test_auc:.4f}\")\n",
        "all_test_metrics.append((test_acc, test_f1, test_auc))"
      ]
    },
    {
      "cell_type": "code",
      "execution_count": 12,
      "metadata": {
        "id": "WHC89DQuyO6p",
        "colab": {
          "base_uri": "https://localhost:8080/",
          "height": 481
        },
        "outputId": "d70da718-8f58-4c94-bf55-76fde9ce984d"
      },
      "outputs": [
        {
          "output_type": "stream",
          "name": "stdout",
          "text": [
            "\n",
            " Average Test Performance across 5 folds:\n",
            "Accuracy: 0.8878, F1-Score: 0.9157, AUROC: 0.8590\n",
            " Fold 5 Test: Accuracy=0.8878, F1=0.9157, AUROC=0.8590\n"
          ]
        },
        {
          "output_type": "display_data",
          "data": {
            "text/plain": [
              "<Figure size 500x400 with 2 Axes>"
            ],
            "image/png": "[encoded data removed]"
          },
          "metadata": {}
        }
      ],
      "source": [
        "# Average Test Performance\n",
        "avg_acc = np.mean([m[0] for m in all_test_metrics])\n",
        "avg_f1 = np.mean([m[1] for m in all_test_metrics])\n",
        "avg_auc = np.mean([m[2] for m in all_test_metrics])\n",
        "\n",
        "print(f\"\\n Average Test Performance across 5 folds:\")\n",
        "print(f\"Accuracy: {avg_acc:.4f}, F1-Score: {avg_f1:.4f}, AUROC: {avg_auc:.4f}\")\n",
        "\n",
        "# Evaluate on test set\n",
        "all_preds, all_labels = [], []\n",
        "model.eval()\n",
        "with torch.no_grad():\n",
        "    for x, y in test_loader:\n",
        "        x, y = x.to(device), y.to(device)\n",
        "        outputs = model(x)\n",
        "        if isinstance(outputs, tuple):\n",
        "            outputs = outputs[0]\n",
        "        preds = torch.argmax(outputs, dim=1)\n",
        "        all_preds.extend(preds.cpu().numpy())\n",
        "        all_labels.extend(y.cpu().numpy())\n",
        "\n",
        "test_acc = accuracy_score(all_labels, all_preds)\n",
        "test_f1 = f1_score(all_labels, all_preds)\n",
        "test_auc = roc_auc_score(all_labels, all_preds)\n",
        "print(f\" Fold {fold+1} Test: Accuracy={test_acc:.4f}, F1={test_f1:.4f}, AUROC={test_auc:.4f}\")\n",
        "all_test_metrics.append((test_acc, test_f1, test_auc))\n",
        "\n",
        "# Confusion Matrix\n",
        "cm = confusion_matrix(all_labels, all_preds)\n",
        "plt.figure(figsize=(5, 4))\n",
        "sns.heatmap(cm, annot=True, fmt='d', cmap='Blues', xticklabels=['Normal', 'Pneumonia'], yticklabels=['Normal', 'Pneumonia'])\n",
        "plt.xlabel('Predicted Label')\n",
        "plt.ylabel('True Label')\n",
        "plt.title(f'Confusion Matrix - Fold {fold+1}')\n",
        "plt.tight_layout()\n",
        "plt.show()"
      ]
    }
  ],
  "metadata": {
    "accelerator": "GPU",
    "colab": {
      "gpuType": "T4",
      "provenance": []
    },
    "kernelspec": {
      "display_name": "Python 3",
      "name": "python3"
    },
    "language_info": {
      "name": "python"
    }
  },
  "nbformat": 4,
  "nbformat_minor": 0
}